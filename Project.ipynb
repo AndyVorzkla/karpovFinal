{
 "cells": [
  {
   "cell_type": "code",
   "execution_count": 1,
   "id": "fecf5585",
   "metadata": {},
   "outputs": [],
   "source": [
    "from typing import Union\n",
    "import pandas as pd\n",
    "import random as rd\n",
    "import numpy as np\n",
    "import seaborn as sns\n",
    "import scipy.stats\n",
    "import matplotlib.pyplot as plt\n",
    "import requests\n",
    "import io\n",
    "import pingouin as pg\n",
    "import pandahouse as ph\n",
    "from urllib.parse import urlencode\n",
    "\n",
    "OUTDATED_IGNORE=1\n",
    "\n",
    "\n",
    "%matplotlib inline"
   ]
  },
  {
   "cell_type": "markdown",
   "id": "917e531a",
   "metadata": {},
   "source": [
    "SETTINGS_CELL"
   ]
  },
  {
   "cell_type": "code",
   "execution_count": 2,
   "id": "fd461784",
   "metadata": {},
   "outputs": [],
   "source": [
    "# sns.set(\n",
    "#     font_scale=2,\n",
    "#     style='whitegrid',\n",
    "#     rc = {'figure.figsize': (20, 7)}\n",
    "# )"
   ]
  },
  {
   "cell_type": "markdown",
   "id": "0f1b25a8",
   "metadata": {},
   "source": [
    "# Проект: вариант 2 #\n",
    "\n",
    "### Задание 1. A/B–тестирование ###\n",
    "\n",
    "**1.1 Условие**\n",
    "\n",
    "*Одной из основных задач аналитика в нашей команде является корректное проведение экспериментов. Для этого мы применяем метод A/B–тестирования. В ходе тестирования одной гипотезы целевой группе была предложена новая механика оплаты услуг на сайте, у контрольной группы оставалась базовая механика. В качестве задания Вам необходимо проанализировать итоги эксперимента и сделать вывод, стоит ли запускать новую механику оплаты на всех пользователей.*"
   ]
  },
  {
   "cell_type": "markdown",
   "id": "7c5cbcbe",
   "metadata": {},
   "source": [
    "**1.2 Входные данные**\n",
    "\n",
    "- **groups.csv** - *файл с информацией о принадлежности пользователя к контрольной или экспериментальной группе (А – контроль, B – целевая группа)*\n",
    "- **groups_add.csv** - *дополнительный файл с пользователями, который вам прислали спустя 2 дня после передачи данных*\n",
    "- **active_studs.csv** - *файл с информацией о пользователях, которые зашли на платформу в дни проведения эксперимента.* \n",
    "- **checks.csv** - *файл с информацией об оплатах пользователей в дни проведения эксперимента.*"
   ]
  },
  {
   "cell_type": "code",
   "execution_count": 3,
   "id": "75f9cc37",
   "metadata": {},
   "outputs": [],
   "source": [
    "def get_ydisc_public_data_csv(file_url: 'str', **kwargs) -> pd.DataFrame():\n",
    "    \"\"\"\n",
    "    Скачивает данные по публичной ссылке из Яндекс Диска и заносит их в DataFrame\n",
    "    \"\"\"\n",
    "    base = 'https://cloud-api.yandex.net/v1/disk/public/resources/download?'\n",
    "    url = base + urlencode(dict(public_key=file_url))\n",
    "    response = requests.get(url)\n",
    "    download_url = response.json()['href']\n",
    "    download_response = requests.get(download_url)\n",
    "    data = pd.read_csv(io.BytesIO(download_response.content), **kwargs)\n",
    "    return data"
   ]
  },
  {
   "cell_type": "code",
   "execution_count": 4,
   "id": "3b2c5038",
   "metadata": {},
   "outputs": [],
   "source": [
    "def permutation_test(a_res: pd.DataFrame, b_res: pd.DataFrame, column: str, statistic, n: int):\n",
    "    \"\"\"\n",
    "    Проводит перестановочный тест\n",
    "    \"\"\"\n",
    "    joined_data = list(a_res[column].values)\n",
    "    joined_data.extend(b_res[column].values)\n",
    "    result = []\n",
    "    for i in range(1000):\n",
    "        rd.shuffle(joined_data)\n",
    "        a_perm = joined_data[:len(a_res)]\n",
    "        b_perm = joined_data[len(a_res):]\n",
    "        a_stat = statistic(a_perm)\n",
    "        b_stat = statistic(b_perm)\n",
    "        result.append(a_stat - b_stat)\n",
    "    return result\n",
    "        "
   ]
  },
  {
   "cell_type": "code",
   "execution_count": 5,
   "id": "b0bef779",
   "metadata": {},
   "outputs": [],
   "source": [
    "def mean_confidence_interval(data, confidence=0.95):\n",
    "    \"\"\"\n",
    "    Возвращает среднее по совокупности и его доверительный интервал\n",
    "    \"\"\"\n",
    "    a = 1.0 * np.array(data)\n",
    "    n = len(a)\n",
    "    m, std = np.mean(a), np.std(a)\n",
    "    h = std * scipy.stats.t.ppf((1 + confidence) / 2., n-1)\n",
    "    return round(m, 4), round(m-h, 4), round(m+h, 4)"
   ]
  },
  {
   "cell_type": "code",
   "execution_count": 6,
   "id": "ac0634b5",
   "metadata": {},
   "outputs": [],
   "source": [
    "groups_url = r'https://disk.yandex.ru/d/UhyYx41rTt3clQ'\n",
    "groups_add_url = r'https://disk.yandex.ru/d/5Kxrz02m3IBUwQ'\n",
    "active_studs_url = r'https://disk.yandex.ru/d/Tbs44Bm6H_FwFQ'\n",
    "checks_url = r'https://disk.yandex.ru/d/pH1q-VqcxXjsVA'"
   ]
  },
  {
   "cell_type": "code",
   "execution_count": 7,
   "id": "a1a651d9",
   "metadata": {},
   "outputs": [
    {
     "name": "stderr",
     "output_type": "stream",
     "text": [
      "C:\\Users\\1\\anaconda3\\lib\\site-packages\\outdated\\utils.py:14: OutdatedPackageWarning: The package pingouin is out of date. Your version is 0.5.2, the latest is 0.5.3.\n",
      "Set the environment variable OUTDATED_IGNORE=1 to disable these warnings.\n",
      "  return warn(\n",
      "C:\\Users\\1\\anaconda3\\lib\\site-packages\\outdated\\utils.py:14: OutdatedPackageWarning: The package outdated is out of date. Your version is 0.2.1, the latest is 0.2.2.\n",
      "Set the environment variable OUTDATED_IGNORE=1 to disable these warnings.\n",
      "  return warn(\n"
     ]
    }
   ],
   "source": [
    "groups = get_ydisc_public_data_csv(groups_url, sep=';')"
   ]
  },
  {
   "cell_type": "code",
   "execution_count": 8,
   "id": "30e2d3ac",
   "metadata": {},
   "outputs": [],
   "source": [
    "groups_add = get_ydisc_public_data_csv(groups_add_url)\n"
   ]
  },
  {
   "cell_type": "code",
   "execution_count": 9,
   "id": "ec82f8ef",
   "metadata": {},
   "outputs": [],
   "source": [
    "active_studs = get_ydisc_public_data_csv(active_studs_url)"
   ]
  },
  {
   "cell_type": "code",
   "execution_count": 10,
   "id": "89cac1f0",
   "metadata": {},
   "outputs": [
    {
     "data": {
      "text/html": [
       "<div>\n",
       "<style scoped>\n",
       "    .dataframe tbody tr th:only-of-type {\n",
       "        vertical-align: middle;\n",
       "    }\n",
       "\n",
       "    .dataframe tbody tr th {\n",
       "        vertical-align: top;\n",
       "    }\n",
       "\n",
       "    .dataframe thead th {\n",
       "        text-align: right;\n",
       "    }\n",
       "</style>\n",
       "<table border=\"1\" class=\"dataframe\">\n",
       "  <thead>\n",
       "    <tr style=\"text-align: right;\">\n",
       "      <th></th>\n",
       "      <th>student_id</th>\n",
       "      <th>rev</th>\n",
       "    </tr>\n",
       "  </thead>\n",
       "  <tbody>\n",
       "    <tr>\n",
       "      <th>0</th>\n",
       "      <td>1627</td>\n",
       "      <td>990.0</td>\n",
       "    </tr>\n",
       "    <tr>\n",
       "      <th>1</th>\n",
       "      <td>3185</td>\n",
       "      <td>690.0</td>\n",
       "    </tr>\n",
       "    <tr>\n",
       "      <th>2</th>\n",
       "      <td>25973</td>\n",
       "      <td>690.0</td>\n",
       "    </tr>\n",
       "    <tr>\n",
       "      <th>3</th>\n",
       "      <td>26280</td>\n",
       "      <td>690.0</td>\n",
       "    </tr>\n",
       "    <tr>\n",
       "      <th>4</th>\n",
       "      <td>100300</td>\n",
       "      <td>990.0</td>\n",
       "    </tr>\n",
       "    <tr>\n",
       "      <th>...</th>\n",
       "      <td>...</td>\n",
       "      <td>...</td>\n",
       "    </tr>\n",
       "    <tr>\n",
       "      <th>536</th>\n",
       "      <td>5645737</td>\n",
       "      <td>1900.0</td>\n",
       "    </tr>\n",
       "    <tr>\n",
       "      <th>537</th>\n",
       "      <td>5651566</td>\n",
       "      <td>1900.0</td>\n",
       "    </tr>\n",
       "    <tr>\n",
       "      <th>538</th>\n",
       "      <td>5662322</td>\n",
       "      <td>1900.0</td>\n",
       "    </tr>\n",
       "    <tr>\n",
       "      <th>539</th>\n",
       "      <td>5681918</td>\n",
       "      <td>1900.0</td>\n",
       "    </tr>\n",
       "    <tr>\n",
       "      <th>540</th>\n",
       "      <td>5740903</td>\n",
       "      <td>1900.0</td>\n",
       "    </tr>\n",
       "  </tbody>\n",
       "</table>\n",
       "<p>541 rows × 2 columns</p>\n",
       "</div>"
      ],
      "text/plain": [
       "     student_id     rev\n",
       "0          1627   990.0\n",
       "1          3185   690.0\n",
       "2         25973   690.0\n",
       "3         26280   690.0\n",
       "4        100300   990.0\n",
       "..          ...     ...\n",
       "536     5645737  1900.0\n",
       "537     5651566  1900.0\n",
       "538     5662322  1900.0\n",
       "539     5681918  1900.0\n",
       "540     5740903  1900.0\n",
       "\n",
       "[541 rows x 2 columns]"
      ]
     },
     "execution_count": 10,
     "metadata": {},
     "output_type": "execute_result"
    }
   ],
   "source": [
    "checks = get_ydisc_public_data_csv(checks_url, sep=';')\n",
    "checks"
   ]
  },
  {
   "cell_type": "code",
   "execution_count": 10,
   "id": "7a3931c6",
   "metadata": {},
   "outputs": [
    {
     "data": {
      "text/html": [
       "<div>\n",
       "<style scoped>\n",
       "    .dataframe tbody tr th:only-of-type {\n",
       "        vertical-align: middle;\n",
       "    }\n",
       "\n",
       "    .dataframe tbody tr th {\n",
       "        vertical-align: top;\n",
       "    }\n",
       "\n",
       "    .dataframe thead th {\n",
       "        text-align: right;\n",
       "    }\n",
       "</style>\n",
       "<table border=\"1\" class=\"dataframe\">\n",
       "  <thead>\n",
       "    <tr style=\"text-align: right;\">\n",
       "      <th></th>\n",
       "      <th>id</th>\n",
       "      <th>grp</th>\n",
       "    </tr>\n",
       "  </thead>\n",
       "  <tbody>\n",
       "    <tr>\n",
       "      <th>0</th>\n",
       "      <td>1489</td>\n",
       "      <td>B</td>\n",
       "    </tr>\n",
       "    <tr>\n",
       "      <th>1</th>\n",
       "      <td>1627</td>\n",
       "      <td>A</td>\n",
       "    </tr>\n",
       "    <tr>\n",
       "      <th>2</th>\n",
       "      <td>1768</td>\n",
       "      <td>B</td>\n",
       "    </tr>\n",
       "    <tr>\n",
       "      <th>3</th>\n",
       "      <td>1783</td>\n",
       "      <td>B</td>\n",
       "    </tr>\n",
       "    <tr>\n",
       "      <th>4</th>\n",
       "      <td>1794</td>\n",
       "      <td>A</td>\n",
       "    </tr>\n",
       "    <tr>\n",
       "      <th>...</th>\n",
       "      <td>...</td>\n",
       "      <td>...</td>\n",
       "    </tr>\n",
       "    <tr>\n",
       "      <th>87</th>\n",
       "      <td>200247820</td>\n",
       "      <td>B</td>\n",
       "    </tr>\n",
       "    <tr>\n",
       "      <th>88</th>\n",
       "      <td>201032527</td>\n",
       "      <td>B</td>\n",
       "    </tr>\n",
       "    <tr>\n",
       "      <th>89</th>\n",
       "      <td>201067612</td>\n",
       "      <td>B</td>\n",
       "    </tr>\n",
       "    <tr>\n",
       "      <th>90</th>\n",
       "      <td>201067653</td>\n",
       "      <td>B</td>\n",
       "    </tr>\n",
       "    <tr>\n",
       "      <th>91</th>\n",
       "      <td>201067659</td>\n",
       "      <td>B</td>\n",
       "    </tr>\n",
       "  </tbody>\n",
       "</table>\n",
       "<p>74576 rows × 2 columns</p>\n",
       "</div>"
      ],
      "text/plain": [
       "           id grp\n",
       "0        1489   B\n",
       "1        1627   A\n",
       "2        1768   B\n",
       "3        1783   B\n",
       "4        1794   A\n",
       "..        ...  ..\n",
       "87  200247820   B\n",
       "88  201032527   B\n",
       "89  201067612   B\n",
       "90  201067653   B\n",
       "91  201067659   B\n",
       "\n",
       "[74576 rows x 2 columns]"
      ]
     },
     "execution_count": 10,
     "metadata": {},
     "output_type": "execute_result"
    }
   ],
   "source": [
    "all_groups = pd.concat([groups, groups_add])\n",
    "all_groups"
   ]
  },
  {
   "cell_type": "code",
   "execution_count": 11,
   "id": "288d95be",
   "metadata": {},
   "outputs": [],
   "source": [
    "all_groups['isactive'] = all_groups.id.isin(active_studs.student_id)"
   ]
  },
  {
   "cell_type": "code",
   "execution_count": 12,
   "id": "982be794",
   "metadata": {},
   "outputs": [
    {
     "data": {
      "text/html": [
       "<div>\n",
       "<style scoped>\n",
       "    .dataframe tbody tr th:only-of-type {\n",
       "        vertical-align: middle;\n",
       "    }\n",
       "\n",
       "    .dataframe tbody tr th {\n",
       "        vertical-align: top;\n",
       "    }\n",
       "\n",
       "    .dataframe thead th {\n",
       "        text-align: right;\n",
       "    }\n",
       "</style>\n",
       "<table border=\"1\" class=\"dataframe\">\n",
       "  <thead>\n",
       "    <tr style=\"text-align: right;\">\n",
       "      <th></th>\n",
       "      <th>id</th>\n",
       "      <th>grp</th>\n",
       "      <th>isactive</th>\n",
       "    </tr>\n",
       "  </thead>\n",
       "  <tbody>\n",
       "    <tr>\n",
       "      <th>0</th>\n",
       "      <td>1489</td>\n",
       "      <td>B</td>\n",
       "      <td>False</td>\n",
       "    </tr>\n",
       "    <tr>\n",
       "      <th>1</th>\n",
       "      <td>1627</td>\n",
       "      <td>A</td>\n",
       "      <td>True</td>\n",
       "    </tr>\n",
       "    <tr>\n",
       "      <th>2</th>\n",
       "      <td>1768</td>\n",
       "      <td>B</td>\n",
       "      <td>False</td>\n",
       "    </tr>\n",
       "    <tr>\n",
       "      <th>3</th>\n",
       "      <td>1783</td>\n",
       "      <td>B</td>\n",
       "      <td>False</td>\n",
       "    </tr>\n",
       "    <tr>\n",
       "      <th>4</th>\n",
       "      <td>1794</td>\n",
       "      <td>A</td>\n",
       "      <td>False</td>\n",
       "    </tr>\n",
       "  </tbody>\n",
       "</table>\n",
       "</div>"
      ],
      "text/plain": [
       "     id grp  isactive\n",
       "0  1489   B     False\n",
       "1  1627   A      True\n",
       "2  1768   B     False\n",
       "3  1783   B     False\n",
       "4  1794   A     False"
      ]
     },
     "execution_count": 12,
     "metadata": {},
     "output_type": "execute_result"
    }
   ],
   "source": [
    "all_groups.head()"
   ]
  },
  {
   "cell_type": "markdown",
   "id": "2c2eaf55",
   "metadata": {},
   "source": [
    "*Добавляем нашим группам информацию о покупках*"
   ]
  },
  {
   "cell_type": "code",
   "execution_count": 14,
   "id": "60790be7",
   "metadata": {},
   "outputs": [
    {
     "data": {
      "text/html": [
       "<div>\n",
       "<style scoped>\n",
       "    .dataframe tbody tr th:only-of-type {\n",
       "        vertical-align: middle;\n",
       "    }\n",
       "\n",
       "    .dataframe tbody tr th {\n",
       "        vertical-align: top;\n",
       "    }\n",
       "\n",
       "    .dataframe thead th {\n",
       "        text-align: right;\n",
       "    }\n",
       "</style>\n",
       "<table border=\"1\" class=\"dataframe\">\n",
       "  <thead>\n",
       "    <tr style=\"text-align: right;\">\n",
       "      <th></th>\n",
       "      <th>id</th>\n",
       "      <th>grp</th>\n",
       "      <th>isactive</th>\n",
       "      <th>rev</th>\n",
       "    </tr>\n",
       "  </thead>\n",
       "  <tbody>\n",
       "    <tr>\n",
       "      <th>0</th>\n",
       "      <td>1489</td>\n",
       "      <td>B</td>\n",
       "      <td>False</td>\n",
       "      <td>NaN</td>\n",
       "    </tr>\n",
       "    <tr>\n",
       "      <th>1</th>\n",
       "      <td>1627</td>\n",
       "      <td>A</td>\n",
       "      <td>True</td>\n",
       "      <td>990.0</td>\n",
       "    </tr>\n",
       "    <tr>\n",
       "      <th>2</th>\n",
       "      <td>1768</td>\n",
       "      <td>B</td>\n",
       "      <td>False</td>\n",
       "      <td>NaN</td>\n",
       "    </tr>\n",
       "    <tr>\n",
       "      <th>3</th>\n",
       "      <td>1783</td>\n",
       "      <td>B</td>\n",
       "      <td>False</td>\n",
       "      <td>NaN</td>\n",
       "    </tr>\n",
       "    <tr>\n",
       "      <th>4</th>\n",
       "      <td>1794</td>\n",
       "      <td>A</td>\n",
       "      <td>False</td>\n",
       "      <td>NaN</td>\n",
       "    </tr>\n",
       "    <tr>\n",
       "      <th>5</th>\n",
       "      <td>1803</td>\n",
       "      <td>B</td>\n",
       "      <td>False</td>\n",
       "      <td>NaN</td>\n",
       "    </tr>\n",
       "    <tr>\n",
       "      <th>6</th>\n",
       "      <td>1805</td>\n",
       "      <td>B</td>\n",
       "      <td>False</td>\n",
       "      <td>NaN</td>\n",
       "    </tr>\n",
       "    <tr>\n",
       "      <th>7</th>\n",
       "      <td>2067</td>\n",
       "      <td>A</td>\n",
       "      <td>False</td>\n",
       "      <td>NaN</td>\n",
       "    </tr>\n",
       "    <tr>\n",
       "      <th>8</th>\n",
       "      <td>2078</td>\n",
       "      <td>A</td>\n",
       "      <td>False</td>\n",
       "      <td>NaN</td>\n",
       "    </tr>\n",
       "    <tr>\n",
       "      <th>9</th>\n",
       "      <td>2080</td>\n",
       "      <td>B</td>\n",
       "      <td>False</td>\n",
       "      <td>NaN</td>\n",
       "    </tr>\n",
       "  </tbody>\n",
       "</table>\n",
       "</div>"
      ],
      "text/plain": [
       "     id grp  isactive    rev\n",
       "0  1489   B     False    NaN\n",
       "1  1627   A      True  990.0\n",
       "2  1768   B     False    NaN\n",
       "3  1783   B     False    NaN\n",
       "4  1794   A     False    NaN\n",
       "5  1803   B     False    NaN\n",
       "6  1805   B     False    NaN\n",
       "7  2067   A     False    NaN\n",
       "8  2078   A     False    NaN\n",
       "9  2080   B     False    NaN"
      ]
     },
     "execution_count": 14,
     "metadata": {},
     "output_type": "execute_result"
    }
   ],
   "source": [
    "merge_data = all_groups.merge(checks, left_on='id', right_on='student_id', how='left', )\n",
    "merge_data.drop(columns=['student_id'],inplace=True)\n",
    "merge_data.head(10)"
   ]
  },
  {
   "cell_type": "markdown",
   "id": "90a77f91",
   "metadata": {},
   "source": [
    "Заполняем 0 если не было заказов"
   ]
  },
  {
   "cell_type": "code",
   "execution_count": 15,
   "id": "0557498e",
   "metadata": {},
   "outputs": [],
   "source": [
    "merge_data.fillna({'rev': 0}, inplace=True)"
   ]
  },
  {
   "cell_type": "markdown",
   "id": "21619974",
   "metadata": {},
   "source": [
    "**Соединили все данные**"
   ]
  },
  {
   "cell_type": "code",
   "execution_count": 16,
   "id": "3a92e78c",
   "metadata": {},
   "outputs": [
    {
     "data": {
      "text/html": [
       "<div>\n",
       "<style scoped>\n",
       "    .dataframe tbody tr th:only-of-type {\n",
       "        vertical-align: middle;\n",
       "    }\n",
       "\n",
       "    .dataframe tbody tr th {\n",
       "        vertical-align: top;\n",
       "    }\n",
       "\n",
       "    .dataframe thead th {\n",
       "        text-align: right;\n",
       "    }\n",
       "</style>\n",
       "<table border=\"1\" class=\"dataframe\">\n",
       "  <thead>\n",
       "    <tr style=\"text-align: right;\">\n",
       "      <th></th>\n",
       "      <th>id</th>\n",
       "      <th>grp</th>\n",
       "      <th>isactive</th>\n",
       "      <th>rev</th>\n",
       "    </tr>\n",
       "  </thead>\n",
       "  <tbody>\n",
       "    <tr>\n",
       "      <th>0</th>\n",
       "      <td>1489</td>\n",
       "      <td>B</td>\n",
       "      <td>False</td>\n",
       "      <td>0.0</td>\n",
       "    </tr>\n",
       "    <tr>\n",
       "      <th>1</th>\n",
       "      <td>1627</td>\n",
       "      <td>A</td>\n",
       "      <td>True</td>\n",
       "      <td>990.0</td>\n",
       "    </tr>\n",
       "    <tr>\n",
       "      <th>2</th>\n",
       "      <td>1768</td>\n",
       "      <td>B</td>\n",
       "      <td>False</td>\n",
       "      <td>0.0</td>\n",
       "    </tr>\n",
       "    <tr>\n",
       "      <th>3</th>\n",
       "      <td>1783</td>\n",
       "      <td>B</td>\n",
       "      <td>False</td>\n",
       "      <td>0.0</td>\n",
       "    </tr>\n",
       "    <tr>\n",
       "      <th>4</th>\n",
       "      <td>1794</td>\n",
       "      <td>A</td>\n",
       "      <td>False</td>\n",
       "      <td>0.0</td>\n",
       "    </tr>\n",
       "    <tr>\n",
       "      <th>...</th>\n",
       "      <td>...</td>\n",
       "      <td>...</td>\n",
       "      <td>...</td>\n",
       "      <td>...</td>\n",
       "    </tr>\n",
       "    <tr>\n",
       "      <th>74571</th>\n",
       "      <td>200247820</td>\n",
       "      <td>B</td>\n",
       "      <td>False</td>\n",
       "      <td>0.0</td>\n",
       "    </tr>\n",
       "    <tr>\n",
       "      <th>74572</th>\n",
       "      <td>201032527</td>\n",
       "      <td>B</td>\n",
       "      <td>False</td>\n",
       "      <td>0.0</td>\n",
       "    </tr>\n",
       "    <tr>\n",
       "      <th>74573</th>\n",
       "      <td>201067612</td>\n",
       "      <td>B</td>\n",
       "      <td>False</td>\n",
       "      <td>0.0</td>\n",
       "    </tr>\n",
       "    <tr>\n",
       "      <th>74574</th>\n",
       "      <td>201067653</td>\n",
       "      <td>B</td>\n",
       "      <td>False</td>\n",
       "      <td>0.0</td>\n",
       "    </tr>\n",
       "    <tr>\n",
       "      <th>74575</th>\n",
       "      <td>201067659</td>\n",
       "      <td>B</td>\n",
       "      <td>False</td>\n",
       "      <td>0.0</td>\n",
       "    </tr>\n",
       "  </tbody>\n",
       "</table>\n",
       "<p>74576 rows × 4 columns</p>\n",
       "</div>"
      ],
      "text/plain": [
       "              id grp  isactive    rev\n",
       "0           1489   B     False    0.0\n",
       "1           1627   A      True  990.0\n",
       "2           1768   B     False    0.0\n",
       "3           1783   B     False    0.0\n",
       "4           1794   A     False    0.0\n",
       "...          ...  ..       ...    ...\n",
       "74571  200247820   B     False    0.0\n",
       "74572  201032527   B     False    0.0\n",
       "74573  201067612   B     False    0.0\n",
       "74574  201067653   B     False    0.0\n",
       "74575  201067659   B     False    0.0\n",
       "\n",
       "[74576 rows x 4 columns]"
      ]
     },
     "execution_count": 16,
     "metadata": {},
     "output_type": "execute_result"
    }
   ],
   "source": [
    "merge_data"
   ]
  },
  {
   "cell_type": "markdown",
   "id": "379e9a5a",
   "metadata": {},
   "source": [
    "*Посмотрим на размер групп*"
   ]
  },
  {
   "cell_type": "code",
   "execution_count": 19,
   "id": "9715ead4",
   "metadata": {},
   "outputs": [
    {
     "data": {
      "text/plain": [
       "B    59883\n",
       "A    14693\n",
       "Name: grp, dtype: int64"
      ]
     },
     "execution_count": 19,
     "metadata": {},
     "output_type": "execute_result"
    }
   ],
   "source": [
    "merge_data.grp.value_counts()"
   ]
  },
  {
   "cell_type": "markdown",
   "id": "9369ea88",
   "metadata": {},
   "source": [
    "Полагаю, группа B - контрольная, А - экспериментальная"
   ]
  },
  {
   "cell_type": "markdown",
   "id": "1d763506",
   "metadata": {},
   "source": [
    "**Проверим конверсию в активных клиентов**"
   ]
  },
  {
   "cell_type": "code",
   "execution_count": 20,
   "id": "08d7893e",
   "metadata": {},
   "outputs": [
    {
     "data": {
      "text/plain": [
       "'size a :14693, size b:59883'"
      ]
     },
     "execution_count": 20,
     "metadata": {},
     "output_type": "execute_result"
    }
   ],
   "source": [
    "group_a = merge_data.query('grp == \"A\"')\n",
    "group_b = merge_data.query('grp == \"B\"')\n",
    "a_len, b_len = len(group_a), len(group_b)\n",
    "f'size a :{a_len}, size b:{b_len}'"
   ]
  },
  {
   "cell_type": "markdown",
   "id": "d0be4050",
   "metadata": {},
   "source": [
    "*Расчитываем CR в активных клиентов*"
   ]
  },
  {
   "cell_type": "code",
   "execution_count": 21,
   "id": "fb02bd64",
   "metadata": {},
   "outputs": [],
   "source": [
    "group_cr = merge_data.groupby('grp')['isactive'].mean()"
   ]
  },
  {
   "cell_type": "code",
   "execution_count": 99,
   "id": "1e1d5386",
   "metadata": {},
   "outputs": [
    {
     "data": {
      "text/plain": [
       "-0.008929166906207361"
      ]
     },
     "execution_count": 99,
     "metadata": {},
     "output_type": "execute_result"
    }
   ],
   "source": [
    "active_rate_dif = group_cr[0] - group_cr[1]\n",
    "active_rate_dif"
   ]
  },
  {
   "cell_type": "markdown",
   "id": "df98b9c8",
   "metadata": {},
   "source": [
    "В группе А и в группе B activeRate - 10.4 и 11.3 процента соответсвенно. Разница = 0.0089"
   ]
  },
  {
   "cell_type": "markdown",
   "id": "7a70be5e",
   "metadata": {},
   "source": [
    "*Методом перестановочных тестов определяем, возможно ли получить такую разницу случайным путем*"
   ]
  },
  {
   "cell_type": "code",
   "execution_count": 101,
   "id": "69e53e7d",
   "metadata": {},
   "outputs": [],
   "source": [
    "permution_result = permutation_test(group_a, group_b, 'isactive', np.mean, 100)"
   ]
  },
  {
   "cell_type": "markdown",
   "id": "bf2c5147",
   "metadata": {},
   "source": [
    "*доверительный интервал [-0.0057, 0.0057]*"
   ]
  },
  {
   "cell_type": "code",
   "execution_count": 102,
   "id": "b52cf5fb",
   "metadata": {},
   "outputs": [
    {
     "data": {
      "text/plain": [
       "(-0.0057, 0.0057)"
      ]
     },
     "execution_count": 102,
     "metadata": {},
     "output_type": "execute_result"
    }
   ],
   "source": [
    "mean, left_int, right_int = mean_confidence_interval(permution_result)\n",
    "left_int, right_int"
   ]
  },
  {
   "cell_type": "code",
   "execution_count": 103,
   "id": "d3840943",
   "metadata": {},
   "outputs": [
    {
     "data": {
      "text/plain": [
       "<matplotlib.lines.Line2D at 0x13211b8d2e0>"
      ]
     },
     "execution_count": 103,
     "metadata": {},
     "output_type": "execute_result"
    },
    {
     "data": {
      "image/png": "[encoded data removed]",
      "text/plain": [
       "<Figure size 504x504 with 1 Axes>"
      ]
     },
     "metadata": {
      "needs_background": "light"
     },
     "output_type": "display_data"
    }
   ],
   "source": [
    "sns.displot(permution_result, height=7)\n",
    "plt.axvline(active_rate_dif, 1, 0, color='red')\n",
    "plt.axvline(left_int, 1, 0, color='green')\n",
    "plt.axvline(right_int, 1, 0, color='green')"
   ]
  },
  {
   "cell_type": "markdown",
   "id": "7df037b1",
   "metadata": {},
   "source": [
    "*Наблюдаем, что в 95% доверительный интервал наша разница в 0.0089 не попадает. **Она значима**.*"
   ]
  },
  {
   "cell_type": "markdown",
   "id": "2938589f",
   "metadata": {},
   "source": [
    "*Так же применим критерий хи-квадрат*\n",
    "\n",
    "**H0**: *доля активных пользователей не зависит от группы*\n",
    "\n",
    "**H1**: *статистически различие между долей активных пользователей*"
   ]
  },
  {
   "cell_type": "code",
   "execution_count": 104,
   "id": "8010e719",
   "metadata": {},
   "outputs": [
    {
     "data": {
      "text/html": [
       "<div>\n",
       "<style scoped>\n",
       "    .dataframe tbody tr th:only-of-type {\n",
       "        vertical-align: middle;\n",
       "    }\n",
       "\n",
       "    .dataframe tbody tr th {\n",
       "        vertical-align: top;\n",
       "    }\n",
       "\n",
       "    .dataframe thead th {\n",
       "        text-align: right;\n",
       "    }\n",
       "</style>\n",
       "<table border=\"1\" class=\"dataframe\">\n",
       "  <thead>\n",
       "    <tr style=\"text-align: right;\">\n",
       "      <th>isactive</th>\n",
       "      <th>False</th>\n",
       "      <th>True</th>\n",
       "      <th>All</th>\n",
       "    </tr>\n",
       "    <tr>\n",
       "      <th>grp</th>\n",
       "      <th></th>\n",
       "      <th></th>\n",
       "      <th></th>\n",
       "    </tr>\n",
       "  </thead>\n",
       "  <tbody>\n",
       "    <tr>\n",
       "      <th>A</th>\n",
       "      <td>13155</td>\n",
       "      <td>1538</td>\n",
       "      <td>14693</td>\n",
       "    </tr>\n",
       "    <tr>\n",
       "      <th>B</th>\n",
       "      <td>53080</td>\n",
       "      <td>6803</td>\n",
       "      <td>59883</td>\n",
       "    </tr>\n",
       "    <tr>\n",
       "      <th>All</th>\n",
       "      <td>66235</td>\n",
       "      <td>8341</td>\n",
       "      <td>74576</td>\n",
       "    </tr>\n",
       "  </tbody>\n",
       "</table>\n",
       "</div>"
      ],
      "text/plain": [
       "isactive  False  True    All\n",
       "grp                         \n",
       "A         13155  1538  14693\n",
       "B         53080  6803  59883\n",
       "All       66235  8341  74576"
      ]
     },
     "execution_count": 104,
     "metadata": {},
     "output_type": "execute_result"
    }
   ],
   "source": [
    "cross_table = pd.crosstab(merge_data.grp, merge_data.isactive, margins=True)\n",
    "cross_table"
   ]
  },
  {
   "cell_type": "code",
   "execution_count": 105,
   "id": "d9c82ab4",
   "metadata": {},
   "outputs": [],
   "source": [
    "expected, observed, stats  = pg.chi2_independence(merge_data, 'grp', 'isactive')"
   ]
  },
  {
   "cell_type": "code",
   "execution_count": 106,
   "id": "263ed11a",
   "metadata": {},
   "outputs": [
    {
     "data": {
      "text/plain": [
       "(isactive       False      True \n",
       " grp                            \n",
       " A         13049.6521  1643.3479\n",
       " B         53185.3479  6697.6521,\n",
       " isactive    False   True \n",
       " grp                      \n",
       " A         13154.5  1538.5\n",
       " B         53080.5  6802.5,\n",
       "                  test    lambda      chi2  dof      pval    cramer     power\n",
       " 0             pearson  1.000000  9.379875  1.0  0.002194  0.011215  0.864920\n",
       " 1        cressie-read  0.666667  9.424791  1.0  0.002141  0.011242  0.866505\n",
       " 2      log-likelihood  0.000000  9.516250  1.0  0.002037  0.011296  0.869680\n",
       " 3       freeman-tukey -0.500000  9.586295  1.0  0.001960  0.011338  0.872066\n",
       " 4  mod-log-likelihood -1.000000  9.657611  1.0  0.001886  0.011380  0.874455\n",
       " 5              neyman -2.000000  9.804152  1.0  0.001741  0.011466  0.879240)"
      ]
     },
     "execution_count": 106,
     "metadata": {},
     "output_type": "execute_result"
    }
   ],
   "source": [
    "expected, observed, stats"
   ]
  },
  {
   "cell_type": "markdown",
   "id": "5e088c37",
   "metadata": {},
   "source": [
    "p_value < 0.05"
   ]
  },
  {
   "cell_type": "markdown",
   "id": "7d879a13",
   "metadata": {},
   "source": [
    "*Вывод: доля активных (кто зашел на плаформу) пользователей в контрольной группе (Б) **значимо** отличается в большую сторону.*"
   ]
  },
  {
   "cell_type": "markdown",
   "id": "71d06c71",
   "metadata": {},
   "source": [
    "**Анализируем действия активных клиентов**"
   ]
  },
  {
   "cell_type": "code",
   "execution_count": 107,
   "id": "7aea4224",
   "metadata": {},
   "outputs": [
    {
     "name": "stderr",
     "output_type": "stream",
     "text": [
      "<ipython-input-107-174c3a19815b>:2: SettingWithCopyWarning: \n",
      "A value is trying to be set on a copy of a slice from a DataFrame.\n",
      "Try using .loc[row_indexer,col_indexer] = value instead\n",
      "\n",
      "See the caveats in the documentation: https://pandas.pydata.org/pandas-docs/stable/user_guide/indexing.html#returning-a-view-versus-a-copy\n",
      "  active_data['purchase'] = active_data.rev.apply(lambda x: 1 if x > 0 else 0)\n"
     ]
    },
    {
     "data": {
      "text/html": [
       "<div>\n",
       "<style scoped>\n",
       "    .dataframe tbody tr th:only-of-type {\n",
       "        vertical-align: middle;\n",
       "    }\n",
       "\n",
       "    .dataframe tbody tr th {\n",
       "        vertical-align: top;\n",
       "    }\n",
       "\n",
       "    .dataframe thead th {\n",
       "        text-align: right;\n",
       "    }\n",
       "</style>\n",
       "<table border=\"1\" class=\"dataframe\">\n",
       "  <thead>\n",
       "    <tr style=\"text-align: right;\">\n",
       "      <th></th>\n",
       "      <th>id</th>\n",
       "      <th>grp</th>\n",
       "      <th>isactive</th>\n",
       "      <th>rev</th>\n",
       "      <th>purchase</th>\n",
       "    </tr>\n",
       "  </thead>\n",
       "  <tbody>\n",
       "    <tr>\n",
       "      <th>1</th>\n",
       "      <td>1627</td>\n",
       "      <td>A</td>\n",
       "      <td>True</td>\n",
       "      <td>990.0</td>\n",
       "      <td>1</td>\n",
       "    </tr>\n",
       "    <tr>\n",
       "      <th>10</th>\n",
       "      <td>2085</td>\n",
       "      <td>B</td>\n",
       "      <td>True</td>\n",
       "      <td>0.0</td>\n",
       "      <td>0</td>\n",
       "    </tr>\n",
       "    <tr>\n",
       "      <th>12</th>\n",
       "      <td>2215</td>\n",
       "      <td>B</td>\n",
       "      <td>True</td>\n",
       "      <td>0.0</td>\n",
       "      <td>0</td>\n",
       "    </tr>\n",
       "    <tr>\n",
       "      <th>43</th>\n",
       "      <td>3391</td>\n",
       "      <td>A</td>\n",
       "      <td>True</td>\n",
       "      <td>0.0</td>\n",
       "      <td>0</td>\n",
       "    </tr>\n",
       "    <tr>\n",
       "      <th>45</th>\n",
       "      <td>3401</td>\n",
       "      <td>B</td>\n",
       "      <td>True</td>\n",
       "      <td>0.0</td>\n",
       "      <td>0</td>\n",
       "    </tr>\n",
       "  </tbody>\n",
       "</table>\n",
       "</div>"
      ],
      "text/plain": [
       "      id grp  isactive    rev  purchase\n",
       "1   1627   A      True  990.0         1\n",
       "10  2085   B      True    0.0         0\n",
       "12  2215   B      True    0.0         0\n",
       "43  3391   A      True    0.0         0\n",
       "45  3401   B      True    0.0         0"
      ]
     },
     "execution_count": 107,
     "metadata": {},
     "output_type": "execute_result"
    }
   ],
   "source": [
    "active_data = merge_data.query('isactive == True')\n",
    "active_data['purchase'] = active_data.rev.apply(lambda x: 1 if x > 0 else 0)\n",
    "active_data.head()"
   ]
  },
  {
   "cell_type": "code",
   "execution_count": 108,
   "id": "6f3e260f",
   "metadata": {},
   "outputs": [
    {
     "data": {
      "text/html": [
       "<div>\n",
       "<style scoped>\n",
       "    .dataframe tbody tr th:only-of-type {\n",
       "        vertical-align: middle;\n",
       "    }\n",
       "\n",
       "    .dataframe tbody tr th {\n",
       "        vertical-align: top;\n",
       "    }\n",
       "\n",
       "    .dataframe thead th {\n",
       "        text-align: right;\n",
       "    }\n",
       "</style>\n",
       "<table border=\"1\" class=\"dataframe\">\n",
       "  <thead>\n",
       "    <tr style=\"text-align: right;\">\n",
       "      <th></th>\n",
       "      <th>mean_order_include_0_checks</th>\n",
       "      <th>cr</th>\n",
       "    </tr>\n",
       "    <tr>\n",
       "      <th>grp</th>\n",
       "      <th></th>\n",
       "      <th></th>\n",
       "    </tr>\n",
       "  </thead>\n",
       "  <tbody>\n",
       "    <tr>\n",
       "      <th>A</th>\n",
       "      <td>47.347204</td>\n",
       "      <td>0.050715</td>\n",
       "    </tr>\n",
       "    <tr>\n",
       "      <th>B</th>\n",
       "      <td>58.058798</td>\n",
       "      <td>0.046156</td>\n",
       "    </tr>\n",
       "  </tbody>\n",
       "</table>\n",
       "</div>"
      ],
      "text/plain": [
       "     mean_order_include_0_checks        cr\n",
       "grp                                       \n",
       "A                      47.347204  0.050715\n",
       "B                      58.058798  0.046156"
      ]
     },
     "execution_count": 108,
     "metadata": {},
     "output_type": "execute_result"
    }
   ],
   "source": [
    "active_group = active_data.groupby('grp').agg(mean_order_include_0_checks=('rev', 'mean'), cr=('purchase', 'mean'))\n",
    "active_group"
   ]
  },
  {
   "cell_type": "code",
   "execution_count": 109,
   "id": "13afc30c",
   "metadata": {},
   "outputs": [
    {
     "data": {
      "text/plain": [
       "'size a :1538, size b:6803'"
      ]
     },
     "execution_count": 109,
     "metadata": {},
     "output_type": "execute_result"
    }
   ],
   "source": [
    "active_a = active_data.query('grp == \"A\"')\n",
    "active_b = active_data.query('grp == \"B\"')\n",
    "a_len, b_len = len(active_a), len(active_b)\n",
    "f'size a :{a_len}, size b:{b_len}'"
   ]
  },
  {
   "cell_type": "markdown",
   "id": "fc04cd54",
   "metadata": {},
   "source": [
    "*разница в CR*"
   ]
  },
  {
   "cell_type": "code",
   "execution_count": 110,
   "id": "94b54aa4",
   "metadata": {},
   "outputs": [
    {
     "data": {
      "text/plain": [
       "0.004559106964780894"
      ]
     },
     "execution_count": 110,
     "metadata": {},
     "output_type": "execute_result"
    }
   ],
   "source": [
    "diff_ct_active = active_group.cr[0] - active_group.cr[1]\n",
    "diff_ct_active"
   ]
  },
  {
   "cell_type": "markdown",
   "id": "ea15ad58",
   "metadata": {},
   "source": [
    "*Так же воспользуемся методом перестановочных тестов*"
   ]
  },
  {
   "cell_type": "code",
   "execution_count": 111,
   "id": "dbf296cc",
   "metadata": {},
   "outputs": [],
   "source": [
    "active_permition = permutation_test(active_a, active_b, 'purchase', np.mean, 1000)"
   ]
  },
  {
   "cell_type": "markdown",
   "id": "a4b1f74b",
   "metadata": {},
   "source": [
    "*Возвращает среднее и доверительный интервал исходя из предположения что данные нормально распределены*"
   ]
  },
  {
   "cell_type": "code",
   "execution_count": 112,
   "id": "bfeb0eda",
   "metadata": {},
   "outputs": [
    {
     "data": {
      "text/plain": [
       "(-0.0115, 0.0113)"
      ]
     },
     "execution_count": 112,
     "metadata": {},
     "output_type": "execute_result"
    }
   ],
   "source": [
    "mean, left_int, right_int = mean_confidence_interval(active_permition)\n",
    "left_int, right_int "
   ]
  },
  {
   "cell_type": "markdown",
   "id": "7331e5e8",
   "metadata": {},
   "source": [
    "*Проверим по экспериментальным данным:*"
   ]
  },
  {
   "cell_type": "code",
   "execution_count": 113,
   "id": "f05ef062",
   "metadata": {},
   "outputs": [
    {
     "data": {
      "text/plain": [
       "(-0.01138467367051215, 0.010956548944692208)"
      ]
     },
     "execution_count": 113,
     "metadata": {},
     "output_type": "execute_result"
    }
   ],
   "source": [
    "np.quantile(active_permition, 0.025), np.quantile(active_permition, 0.975)"
   ]
  },
  {
   "cell_type": "code",
   "execution_count": 115,
   "id": "2913a9ee",
   "metadata": {},
   "outputs": [
    {
     "data": {
      "text/plain": [
       "<matplotlib.lines.Line2D at 0x13212c5ccd0>"
      ]
     },
     "execution_count": 115,
     "metadata": {},
     "output_type": "execute_result"
    },
    {
     "data": {
      "image/png": "[encoded data removed]",
      "text/plain": [
       "<Figure size 504x504 with 1 Axes>"
      ]
     },
     "metadata": {
      "needs_background": "light"
     },
     "output_type": "display_data"
    }
   ],
   "source": [
    "sns.displot(active_permition, height=7)\n",
    "plt.axvline(left_int, 1, 0, color='green')\n",
    "plt.axvline(right_int, 1, 0, color='green')\n",
    "plt.axvline(diff_ct_active, 1, 0, color='red')"
   ]
  },
  {
   "cell_type": "markdown",
   "id": "3574ad24",
   "metadata": {},
   "source": [
    "*разница CR в оплату у активных пользователей группы А и группы Б различно (0.0045) но не значимо. Попадает в доверительный интервал [-0.0123, 0.0116] при расчете статистики во время перестановочных тестов. Не может отвергнуть случайную природу этих изменений*"
   ]
  },
  {
   "cell_type": "markdown",
   "id": "519cc400",
   "metadata": {},
   "source": [
    "*Посмотрим на распределение оплаченных чеков*"
   ]
  },
  {
   "cell_type": "code",
   "execution_count": 116,
   "id": "402f55eb",
   "metadata": {},
   "outputs": [],
   "source": [
    "active_posit_rev = active_data.query('rev > 0')"
   ]
  },
  {
   "cell_type": "code",
   "execution_count": 117,
   "id": "1cf4f609",
   "metadata": {},
   "outputs": [
    {
     "name": "stderr",
     "output_type": "stream",
     "text": [
      "C:\\Users\\1\\anaconda3\\lib\\site-packages\\seaborn\\axisgrid.py:676: FutureWarning: iteritems is deprecated and will be removed in a future version. Use .items instead.\n",
      "  plot_args = [v for k, v in plot_data.iteritems()]\n",
      "C:\\Users\\1\\anaconda3\\lib\\site-packages\\seaborn\\axisgrid.py:676: FutureWarning: iteritems is deprecated and will be removed in a future version. Use .items instead.\n",
      "  plot_args = [v for k, v in plot_data.iteritems()]\n"
     ]
    },
    {
     "data": {
      "text/plain": [
       "<seaborn.axisgrid.FacetGrid at 0x13212c9b280>"
      ]
     },
     "execution_count": 117,
     "metadata": {},
     "output_type": "execute_result"
    },
    {
     "data": {
      "image/png": "[encoded data removed]",
      "text/plain": [
       "<Figure size 1152x576 with 1 Axes>"
      ]
     },
     "metadata": {
      "needs_background": "light"
     },
     "output_type": "display_data"
    }
   ],
   "source": [
    "g = sns.FacetGrid(active_posit_rev, height=8, aspect=2, hue='grp')\n",
    "g.map(sns.histplot, \"rev\", bins=10)"
   ]
  },
  {
   "cell_type": "markdown",
   "id": "2a4da514",
   "metadata": {},
   "source": [
    "*Видим выброс в районе 1900 у контрольной группы. Необходимо выяснить природу этого выброса. Возможно у этой группы был доступ к какой-либо акции, или фактору лояльности. Если это так, то нарушается принцип проведения А/Б тестирования, а именно включение какого-то доп фактора изолировано к одной группе.*"
   ]
  },
  {
   "cell_type": "markdown",
   "id": "8d56438f",
   "metadata": {},
   "source": [
    "***Проверим средний чек (ARPPU)***"
   ]
  },
  {
   "cell_type": "markdown",
   "id": "f8283314",
   "metadata": {},
   "source": [
    "*Отбросим чек = 0* "
   ]
  },
  {
   "cell_type": "code",
   "execution_count": 119,
   "id": "972c3081",
   "metadata": {},
   "outputs": [],
   "source": [
    "mean_order_permition = permutation_test(active_a.query('rev > 0'), active_b.query('rev > 0'), 'rev', np.mean, 1000)"
   ]
  },
  {
   "cell_type": "code",
   "execution_count": 120,
   "id": "57f9ecda",
   "metadata": {},
   "outputs": [],
   "source": [
    "# возвращает среднее, 0.025 процентиль, 0.975 процентиль\n",
    "mean, left_int, right_int = mean_confidence_interval(mean_order_permition)"
   ]
  },
  {
   "cell_type": "code",
   "execution_count": 121,
   "id": "2cadf5b9",
   "metadata": {},
   "outputs": [
    {
     "data": {
      "text/plain": [
       "(-216.2195, 208.1296)"
      ]
     },
     "execution_count": 121,
     "metadata": {},
     "output_type": "execute_result"
    }
   ],
   "source": [
    "left_int, right_int"
   ]
  },
  {
   "cell_type": "markdown",
   "id": "af0dafe3",
   "metadata": {},
   "source": [
    "*Разница в среднем чеке*"
   ]
  },
  {
   "cell_type": "code",
   "execution_count": 122,
   "id": "8a6118af",
   "metadata": {},
   "outputs": [
    {
     "data": {
      "text/html": [
       "<div>\n",
       "<style scoped>\n",
       "    .dataframe tbody tr th:only-of-type {\n",
       "        vertical-align: middle;\n",
       "    }\n",
       "\n",
       "    .dataframe tbody tr th {\n",
       "        vertical-align: top;\n",
       "    }\n",
       "\n",
       "    .dataframe thead th {\n",
       "        text-align: right;\n",
       "    }\n",
       "</style>\n",
       "<table border=\"1\" class=\"dataframe\">\n",
       "  <thead>\n",
       "    <tr style=\"text-align: right;\">\n",
       "      <th></th>\n",
       "      <th>mean_order_include_0_checks</th>\n",
       "      <th>cr</th>\n",
       "    </tr>\n",
       "    <tr>\n",
       "      <th>grp</th>\n",
       "      <th></th>\n",
       "      <th></th>\n",
       "    </tr>\n",
       "  </thead>\n",
       "  <tbody>\n",
       "    <tr>\n",
       "      <th>A</th>\n",
       "      <td>47.347204</td>\n",
       "      <td>0.050715</td>\n",
       "    </tr>\n",
       "    <tr>\n",
       "      <th>B</th>\n",
       "      <td>58.058798</td>\n",
       "      <td>0.046156</td>\n",
       "    </tr>\n",
       "  </tbody>\n",
       "</table>\n",
       "</div>"
      ],
      "text/plain": [
       "     mean_order_include_0_checks        cr\n",
       "grp                                       \n",
       "A                      47.347204  0.050715\n",
       "B                      58.058798  0.046156"
      ]
     },
     "execution_count": 122,
     "metadata": {},
     "output_type": "execute_result"
    }
   ],
   "source": [
    "active_group"
   ]
  },
  {
   "cell_type": "code",
   "execution_count": 123,
   "id": "35ab27e3",
   "metadata": {},
   "outputs": [],
   "source": [
    "# diff_check_active = active_group.mean_order[0] - active_group.mean_order[1]\n",
    "# diff_check_active"
   ]
  },
  {
   "cell_type": "code",
   "execution_count": 124,
   "id": "fd5d859d",
   "metadata": {},
   "outputs": [
    {
     "data": {
      "text/plain": [
       "-324.2892484484729"
      ]
     },
     "execution_count": 124,
     "metadata": {},
     "output_type": "execute_result"
    }
   ],
   "source": [
    "diff_check_active = active_a.query('rev > 0').rev.mean() - active_b.query('rev > 0').rev.mean()\n",
    "diff_check_active"
   ]
  },
  {
   "cell_type": "code",
   "execution_count": 127,
   "id": "443b81c5",
   "metadata": {},
   "outputs": [
    {
     "data": {
      "text/plain": [
       "<matplotlib.lines.Line2D at 0x13213350e80>"
      ]
     },
     "execution_count": 127,
     "metadata": {},
     "output_type": "execute_result"
    },
    {
     "data": {
      "image/png": "[encoded data removed]",
      "text/plain": [
       "<Figure size 504x504 with 1 Axes>"
      ]
     },
     "metadata": {
      "needs_background": "light"
     },
     "output_type": "display_data"
    }
   ],
   "source": [
    "sns.displot(mean_order_permition, height=7)\n",
    "plt.axvline(left_int, 1, 0, color='green')\n",
    "plt.axvline(right_int, 1, 0, color='green')\n",
    "plt.axvline(diff_check_active, 1, 0, color='red')"
   ]
  },
  {
   "cell_type": "markdown",
   "id": "882b5e5b",
   "metadata": {},
   "source": [
    "*разница Среднего оплаченного чека у группы А и группы Б (-324) - значима.Не попадает в доверительный интервал [-216, 208] при расчете статистики во время перестановочных тестов. Что не удивительно, учитывая выбросы (?) в группе Б*"
   ]
  },
  {
   "cell_type": "markdown",
   "id": "b8e14c03",
   "metadata": {},
   "source": [
    "**Проведем такой же тест, но уберем чеки вблизи 1900**"
   ]
  },
  {
   "cell_type": "code",
   "execution_count": 128,
   "id": "674dcee5",
   "metadata": {},
   "outputs": [
    {
     "data": {
      "text/plain": [
       "0.0000       6489\n",
       "1900.0000      93\n",
       "290.0000       45\n",
       "1900.0001      35\n",
       "199.0000       27\n",
       "840.0000       21\n",
       "990.0000       17\n",
       "Name: rev, dtype: int64"
      ]
     },
     "execution_count": 128,
     "metadata": {},
     "output_type": "execute_result"
    }
   ],
   "source": [
    "active_b.rev.value_counts().head(7)"
   ]
  },
  {
   "cell_type": "code",
   "execution_count": 129,
   "id": "1d8a9679",
   "metadata": {},
   "outputs": [
    {
     "data": {
      "text/html": [
       "<div>\n",
       "<style scoped>\n",
       "    .dataframe tbody tr th:only-of-type {\n",
       "        vertical-align: middle;\n",
       "    }\n",
       "\n",
       "    .dataframe tbody tr th {\n",
       "        vertical-align: top;\n",
       "    }\n",
       "\n",
       "    .dataframe thead th {\n",
       "        text-align: right;\n",
       "    }\n",
       "</style>\n",
       "<table border=\"1\" class=\"dataframe\">\n",
       "  <thead>\n",
       "    <tr style=\"text-align: right;\">\n",
       "      <th></th>\n",
       "      <th>id</th>\n",
       "      <th>grp</th>\n",
       "      <th>isactive</th>\n",
       "      <th>rev</th>\n",
       "      <th>purchase</th>\n",
       "    </tr>\n",
       "  </thead>\n",
       "  <tbody>\n",
       "    <tr>\n",
       "      <th>1</th>\n",
       "      <td>1627</td>\n",
       "      <td>A</td>\n",
       "      <td>True</td>\n",
       "      <td>990.0</td>\n",
       "      <td>1</td>\n",
       "    </tr>\n",
       "    <tr>\n",
       "      <th>220</th>\n",
       "      <td>100300</td>\n",
       "      <td>B</td>\n",
       "      <td>True</td>\n",
       "      <td>990.0</td>\n",
       "      <td>1</td>\n",
       "    </tr>\n",
       "    <tr>\n",
       "      <th>320</th>\n",
       "      <td>108270</td>\n",
       "      <td>B</td>\n",
       "      <td>True</td>\n",
       "      <td>290.0</td>\n",
       "      <td>1</td>\n",
       "    </tr>\n",
       "    <tr>\n",
       "      <th>4187</th>\n",
       "      <td>274352</td>\n",
       "      <td>B</td>\n",
       "      <td>True</td>\n",
       "      <td>690.0</td>\n",
       "      <td>1</td>\n",
       "    </tr>\n",
       "    <tr>\n",
       "      <th>4399</th>\n",
       "      <td>280036</td>\n",
       "      <td>B</td>\n",
       "      <td>True</td>\n",
       "      <td>199.0</td>\n",
       "      <td>1</td>\n",
       "    </tr>\n",
       "    <tr>\n",
       "      <th>...</th>\n",
       "      <td>...</td>\n",
       "      <td>...</td>\n",
       "      <td>...</td>\n",
       "      <td>...</td>\n",
       "      <td>...</td>\n",
       "    </tr>\n",
       "    <tr>\n",
       "      <th>74017</th>\n",
       "      <td>5556966</td>\n",
       "      <td>B</td>\n",
       "      <td>True</td>\n",
       "      <td>290.0</td>\n",
       "      <td>1</td>\n",
       "    </tr>\n",
       "    <tr>\n",
       "      <th>74022</th>\n",
       "      <td>5557468</td>\n",
       "      <td>A</td>\n",
       "      <td>True</td>\n",
       "      <td>290.0</td>\n",
       "      <td>1</td>\n",
       "    </tr>\n",
       "    <tr>\n",
       "      <th>74079</th>\n",
       "      <td>5567520</td>\n",
       "      <td>A</td>\n",
       "      <td>True</td>\n",
       "      <td>489.0</td>\n",
       "      <td>1</td>\n",
       "    </tr>\n",
       "    <tr>\n",
       "      <th>74118</th>\n",
       "      <td>5577840</td>\n",
       "      <td>A</td>\n",
       "      <td>True</td>\n",
       "      <td>590.0</td>\n",
       "      <td>1</td>\n",
       "    </tr>\n",
       "    <tr>\n",
       "      <th>74132</th>\n",
       "      <td>5580316</td>\n",
       "      <td>B</td>\n",
       "      <td>True</td>\n",
       "      <td>2099.0</td>\n",
       "      <td>1</td>\n",
       "    </tr>\n",
       "  </tbody>\n",
       "</table>\n",
       "<p>264 rows × 5 columns</p>\n",
       "</div>"
      ],
      "text/plain": [
       "            id grp  isactive     rev  purchase\n",
       "1         1627   A      True   990.0         1\n",
       "220     100300   B      True   990.0         1\n",
       "320     108270   B      True   290.0         1\n",
       "4187    274352   B      True   690.0         1\n",
       "4399    280036   B      True   199.0         1\n",
       "...        ...  ..       ...     ...       ...\n",
       "74017  5556966   B      True   290.0         1\n",
       "74022  5557468   A      True   290.0         1\n",
       "74079  5567520   A      True   489.0         1\n",
       "74118  5577840   A      True   590.0         1\n",
       "74132  5580316   B      True  2099.0         1\n",
       "\n",
       "[264 rows x 5 columns]"
      ]
     },
     "execution_count": 129,
     "metadata": {},
     "output_type": "execute_result"
    }
   ],
   "source": [
    "active_posit_rev_new = active_posit_rev[active_posit_rev.rev.round() != 1900]\n",
    "active_posit_rev_new"
   ]
  },
  {
   "cell_type": "code",
   "execution_count": 130,
   "id": "79bac502",
   "metadata": {},
   "outputs": [
    {
     "name": "stderr",
     "output_type": "stream",
     "text": [
      "C:\\Users\\1\\anaconda3\\lib\\site-packages\\seaborn\\axisgrid.py:676: FutureWarning: iteritems is deprecated and will be removed in a future version. Use .items instead.\n",
      "  plot_args = [v for k, v in plot_data.iteritems()]\n",
      "C:\\Users\\1\\anaconda3\\lib\\site-packages\\seaborn\\axisgrid.py:676: FutureWarning: iteritems is deprecated and will be removed in a future version. Use .items instead.\n",
      "  plot_args = [v for k, v in plot_data.iteritems()]\n"
     ]
    },
    {
     "data": {
      "text/plain": [
       "<seaborn.axisgrid.FacetGrid at 0x132133a1df0>"
      ]
     },
     "execution_count": 130,
     "metadata": {},
     "output_type": "execute_result"
    },
    {
     "data": {
      "image/png": "[encoded data removed]",
      "text/plain": [
       "<Figure size 1152x576 with 1 Axes>"
      ]
     },
     "metadata": {
      "needs_background": "light"
     },
     "output_type": "display_data"
    }
   ],
   "source": [
    "g = sns.FacetGrid(active_posit_rev_new, height=8, aspect=2, hue='grp')\n",
    "g.map(sns.histplot, \"rev\", bins=10)"
   ]
  },
  {
   "cell_type": "code",
   "execution_count": 131,
   "id": "27136b5a",
   "metadata": {},
   "outputs": [],
   "source": [
    "active_a = active_posit_rev_new[active_posit_rev_new.grp=='A']\n",
    "active_b_new = active_posit_rev_new[active_posit_rev_new.grp=='B']"
   ]
  },
  {
   "cell_type": "code",
   "execution_count": 132,
   "id": "497ef3dc",
   "metadata": {},
   "outputs": [],
   "source": [
    "mean_order_permition = permutation_test(active_a, active_b_new, 'rev', np.mean, 1000)"
   ]
  },
  {
   "cell_type": "markdown",
   "id": "7cb97a7e",
   "metadata": {},
   "source": [
    "*Провели тест, посчитали дов. интервал*"
   ]
  },
  {
   "cell_type": "code",
   "execution_count": 133,
   "id": "0a0766b3",
   "metadata": {},
   "outputs": [
    {
     "data": {
      "text/plain": [
       "(-228.4817, 215.688)"
      ]
     },
     "execution_count": 133,
     "metadata": {},
     "output_type": "execute_result"
    }
   ],
   "source": [
    "mean, left_int, right_int = mean_confidence_interval(mean_order_permition)\n",
    "left_int, right_int "
   ]
  },
  {
   "cell_type": "code",
   "execution_count": 134,
   "id": "abe37a69",
   "metadata": {},
   "outputs": [
    {
     "data": {
      "text/plain": [
       "117.60049627791557"
      ]
     },
     "execution_count": 134,
     "metadata": {},
     "output_type": "execute_result"
    }
   ],
   "source": [
    "diff_check_active = active_a.rev.mean() - active_b_new.rev.mean()\n",
    "diff_check_active"
   ]
  },
  {
   "cell_type": "code",
   "execution_count": 135,
   "id": "3236a366",
   "metadata": {},
   "outputs": [
    {
     "data": {
      "text/plain": [
       "<matplotlib.lines.Line2D at 0x13213a031c0>"
      ]
     },
     "execution_count": 135,
     "metadata": {},
     "output_type": "execute_result"
    },
    {
     "data": {
      "image/png": "[encoded data removed]",
      "text/plain": [
       "<Figure size 504x504 with 1 Axes>"
      ]
     },
     "metadata": {
      "needs_background": "light"
     },
     "output_type": "display_data"
    }
   ],
   "source": [
    "sns.displot(mean_order_permition, height=7)\n",
    "plt.axvline(left_int, 1, 0, color='green')\n",
    "plt.axvline(right_int, 1, 0, color='green')\n",
    "plt.axvline(diff_check_active, 1, 0, color='red')"
   ]
  },
  {
   "cell_type": "markdown",
   "id": "e1a358ac",
   "metadata": {},
   "source": [
    "*Когда мы убрали у группы Б чеки в районе 1900 значимую разницу в **ARPPU** уже не наблюдаем.*"
   ]
  },
  {
   "cell_type": "markdown",
   "id": "af9177f5",
   "metadata": {},
   "source": [
    "**Проверим ARPU**"
   ]
  },
  {
   "cell_type": "code",
   "execution_count": 142,
   "id": "bf6b9f70",
   "metadata": {},
   "outputs": [
    {
     "data": {
      "text/html": [
       "<div>\n",
       "<style scoped>\n",
       "    .dataframe tbody tr th:only-of-type {\n",
       "        vertical-align: middle;\n",
       "    }\n",
       "\n",
       "    .dataframe tbody tr th {\n",
       "        vertical-align: top;\n",
       "    }\n",
       "\n",
       "    .dataframe thead th {\n",
       "        text-align: right;\n",
       "    }\n",
       "</style>\n",
       "<table border=\"1\" class=\"dataframe\">\n",
       "  <thead>\n",
       "    <tr style=\"text-align: right;\">\n",
       "      <th></th>\n",
       "      <th>grp</th>\n",
       "      <th>rev</th>\n",
       "    </tr>\n",
       "  </thead>\n",
       "  <tbody>\n",
       "    <tr>\n",
       "      <th>0</th>\n",
       "      <td>A</td>\n",
       "      <td>47.347204</td>\n",
       "    </tr>\n",
       "    <tr>\n",
       "      <th>1</th>\n",
       "      <td>B</td>\n",
       "      <td>58.058798</td>\n",
       "    </tr>\n",
       "  </tbody>\n",
       "</table>\n",
       "</div>"
      ],
      "text/plain": [
       "  grp        rev\n",
       "0   A  47.347204\n",
       "1   B  58.058798"
      ]
     },
     "execution_count": 142,
     "metadata": {},
     "output_type": "execute_result"
    }
   ],
   "source": [
    "active_data.groupby('grp', as_index=False).agg({'rev': 'mean'})"
   ]
  },
  {
   "cell_type": "code",
   "execution_count": 149,
   "id": "f640c56c",
   "metadata": {},
   "outputs": [],
   "source": [
    "active_a = active_data[active_data.grp=='A']\n",
    "active_b = active_data[active_data.grp=='B']"
   ]
  },
  {
   "cell_type": "code",
   "execution_count": 152,
   "id": "03def2de",
   "metadata": {},
   "outputs": [],
   "source": [
    "mean_order_permition = permutation_test(active_a, active_b, 'rev', np.mean, 1000)"
   ]
  },
  {
   "cell_type": "code",
   "execution_count": 153,
   "id": "25c587b4",
   "metadata": {},
   "outputs": [
    {
     "data": {
      "text/plain": [
       "(-16.7235, 16.8603)"
      ]
     },
     "execution_count": 153,
     "metadata": {},
     "output_type": "execute_result"
    }
   ],
   "source": [
    "mean, left_int, right_int = mean_confidence_interval(mean_order_permition)\n",
    "left_int, right_int"
   ]
  },
  {
   "cell_type": "code",
   "execution_count": 154,
   "id": "e742ad19",
   "metadata": {},
   "outputs": [
    {
     "data": {
      "text/plain": [
       "-10.711593942529376"
      ]
     },
     "execution_count": 154,
     "metadata": {},
     "output_type": "execute_result"
    }
   ],
   "source": [
    "diff_check_active = active_a.rev.mean() - active_b.rev.mean()\n",
    "diff_check_active"
   ]
  },
  {
   "cell_type": "code",
   "execution_count": 155,
   "id": "78090471",
   "metadata": {},
   "outputs": [
    {
     "data": {
      "text/plain": [
       "<matplotlib.lines.Line2D at 0x131f96d1730>"
      ]
     },
     "execution_count": 155,
     "metadata": {},
     "output_type": "execute_result"
    },
    {
     "data": {
      "image/png": "[encoded data removed]",
      "text/plain": [
       "<Figure size 504x504 with 1 Axes>"
      ]
     },
     "metadata": {
      "needs_background": "light"
     },
     "output_type": "display_data"
    }
   ],
   "source": [
    "sns.displot(mean_order_permition, height=7)\n",
    "plt.axvline(left_int, 1, 0, color='green')\n",
    "plt.axvline(right_int, 1, 0, color='green')\n",
    "plt.axvline(diff_check_active, 1, 0, color='red')"
   ]
  },
  {
   "cell_type": "markdown",
   "id": "221eb116",
   "metadata": {},
   "source": [
    "*Тем не менее **ARPU** у групп значимо не отличается. Находится в пределах доверительного интервала теста случайных перестановок.*"
   ]
  },
  {
   "cell_type": "markdown",
   "id": "a176e11e",
   "metadata": {},
   "source": [
    "### ВЫВОДЫ"
   ]
  },
  {
   "cell_type": "markdown",
   "id": "8083b875",
   "metadata": {},
   "source": [
    "1) При анализе активных пользователей получили:\n",
    "\n",
    "    Конверсия в покупку у группы А и Б значимо не отличается\n",
    "    Различия в ARPPU значимо отличаются с учетом большого количества оплат 1900, без них отличия не стат значимы\n",
    "    Так же ARPU не показало стат значимых отличий\n",
    "    \n",
    "2) При анализе конверсии в активных пользователей получили:\n",
    "\n",
    "    Конверсия в активных пользователей значимо отличается.\n",
    "    Видимо была допущена ошибка при формировании групп для А/Б тестирования.\n",
    "    Возможно, в группу Б попало больше людей с недавней датой регистрации или,\n",
    "    моделируя ситуацию с учетом выбросов у чеков группы Б, могу предположить, что возможно им пришло пуш уведомление\n",
    "    с предложение какого-либо акционного товара. Это бы объяснило поведение этой группы.\n",
    "\n",
    "***Я бы не рекомендовал выкатывать обновления, скорее всего допущены ошибки при выполнении и подготовки АБ теста.\n",
    "Следует провести его повторно.***"
   ]
  },
  {
   "cell_type": "markdown",
   "id": "c643c8a1",
   "metadata": {},
   "source": [
    "### Задание 2. SQL ###\n",
    "\n",
    "#### 2.1 Очень усердные ученики. ####\n",
    "\n",
    "**2.1 Условие**\n",
    "\n",
    "*Образовательные курсы состоят из различных уроков, каждый из которых состоит из нескольких маленьких заданий. Каждое такое маленькое задание называется \"горошиной\".\n",
    "Назовём очень **усердным** учеником того пользователя, который хотя бы раз за текущий месяц правильно решил 20 горошин.*"
   ]
  },
  {
   "cell_type": "code",
   "execution_count": 156,
   "id": "26a90f5c",
   "metadata": {},
   "outputs": [],
   "source": [
    "connection_default = {\n",
    "    'host': 'http://clickhouse.beslan.pro:8080',\n",
    "    'database':'default',\n",
    "    'user':'student',                   \n",
    "    'password':'dpo_python_2020'\n",
    "}"
   ]
  },
  {
   "cell_type": "code",
   "execution_count": 158,
   "id": "d6d18a8e",
   "metadata": {},
   "outputs": [
    {
     "data": {
      "text/html": [
       "<div>\n",
       "<style scoped>\n",
       "    .dataframe tbody tr th:only-of-type {\n",
       "        vertical-align: middle;\n",
       "    }\n",
       "\n",
       "    .dataframe tbody tr th {\n",
       "        vertical-align: top;\n",
       "    }\n",
       "\n",
       "    .dataframe thead th {\n",
       "        text-align: right;\n",
       "    }\n",
       "</style>\n",
       "<table border=\"1\" class=\"dataframe\">\n",
       "  <thead>\n",
       "    <tr style=\"text-align: right;\">\n",
       "      <th></th>\n",
       "      <th>toStartOfMonth(timest)</th>\n",
       "    </tr>\n",
       "  </thead>\n",
       "  <tbody>\n",
       "    <tr>\n",
       "      <th>0</th>\n",
       "      <td>2021-10-01</td>\n",
       "    </tr>\n",
       "  </tbody>\n",
       "</table>\n",
       "</div>"
      ],
      "text/plain": [
       "  toStartOfMonth(timest)\n",
       "0             2021-10-01"
      ]
     },
     "execution_count": 158,
     "metadata": {},
     "output_type": "execute_result"
    }
   ],
   "source": [
    "query_2_1 = \"\"\"\n",
    "SELECT DISTINCT toStartOfMonth(timest)\n",
    "FROM default.peas\n",
    "\"\"\"\n",
    "ph.read_clickhouse(query_2_1, connection=connection_default)\n"
   ]
  },
  {
   "cell_type": "markdown",
   "id": "6b3d5a86",
   "metadata": {},
   "source": [
    "*Данные есть только за 2021-10-01*"
   ]
  },
  {
   "cell_type": "code",
   "execution_count": 163,
   "id": "87ec455b",
   "metadata": {},
   "outputs": [],
   "source": [
    "query_2_1 = \"\"\"\n",
    "SELECT COUNT(st_id) as count_good_student\n",
    "FROM(\n",
    "    SELECT st_id, sum(correct) as correct_answers\n",
    "    FROM peas \n",
    "    GROUP BY toStartOfMonth(timest), st_id\n",
    "    HAVING correct_answers >= 20\n",
    ")\n",
    "\"\"\""
   ]
  },
  {
   "cell_type": "code",
   "execution_count": 164,
   "id": "3db13170",
   "metadata": {},
   "outputs": [
    {
     "data": {
      "text/html": [
       "<div>\n",
       "<style scoped>\n",
       "    .dataframe tbody tr th:only-of-type {\n",
       "        vertical-align: middle;\n",
       "    }\n",
       "\n",
       "    .dataframe tbody tr th {\n",
       "        vertical-align: top;\n",
       "    }\n",
       "\n",
       "    .dataframe thead th {\n",
       "        text-align: right;\n",
       "    }\n",
       "</style>\n",
       "<table border=\"1\" class=\"dataframe\">\n",
       "  <thead>\n",
       "    <tr style=\"text-align: right;\">\n",
       "      <th></th>\n",
       "      <th>count_good_student</th>\n",
       "    </tr>\n",
       "  </thead>\n",
       "  <tbody>\n",
       "    <tr>\n",
       "      <th>0</th>\n",
       "      <td>136</td>\n",
       "    </tr>\n",
       "  </tbody>\n",
       "</table>\n",
       "</div>"
      ],
      "text/plain": [
       "   count_good_student\n",
       "0                 136"
      ]
     },
     "execution_count": 164,
     "metadata": {},
     "output_type": "execute_result"
    }
   ],
   "source": [
    "data = ph.read_clickhouse(query_2_1, connection=connection_default)\n",
    "data"
   ]
  },
  {
   "cell_type": "code",
   "execution_count": 165,
   "id": "2b810de3",
   "metadata": {},
   "outputs": [
    {
     "data": {
      "text/plain": [
       "'Количество усердных учеников: 136'"
      ]
     },
     "execution_count": 165,
     "metadata": {},
     "output_type": "execute_result"
    }
   ],
   "source": [
    "f'Количество усердных учеников: {data.count_good_student[0]}'"
   ]
  },
  {
   "cell_type": "markdown",
   "id": "4b39f264",
   "metadata": {},
   "source": [
    "#### Оптимизация воронки. ####\n",
    "\n",
    "**2.1 Условие**\n",
    "\n",
    "*Образовательная платформа предлагает пройти студентам курсы по модели trial: студент может решить бесплатно лишь 30 горошин в день. Для неограниченного количества заданий в определенной дисциплине студенту необходимо приобрести полный доступ. Команда провела эксперимент, где был протестирован новый экран оплаты.*"
   ]
  },
  {
   "cell_type": "code",
   "execution_count": 166,
   "id": "6c37fe76",
   "metadata": {},
   "outputs": [],
   "source": [
    "query_2_2 = \"\"\"\n",
    "SELECT \n",
    "    group,\n",
    "    SUM(total_money) / COUNT(id) as ARPU,\n",
    "    sumIf(total_money, is_active == 1) / SUM(is_active) as ARPAU,\n",
    "    SUM(is_purchase) / COUNT(id) as CR,\n",
    "    sumIf(is_purchase, is_active == 1) / SUM(is_active) as CR_per_active,\n",
    "    sumIf(math_purchase, math_active == 1) / SUM(math_active) as CR_math\n",
    "FROM \n",
    "(   \n",
    "    SELECT \n",
    "        studs.st_id as id,\n",
    "        CASE WHEN sum(peas.correct) > 10 THEN 1 ELSE 0 END as is_active,\n",
    "        CASE WHEN countIf(peas.st_id, peas.subject == 'Math') >= 2 THEN 1 ELSE 0 END as math_active\n",
    "    FROM peas\n",
    "    FULL JOIN studs ON peas.st_id == studs.st_id\n",
    "    GROUP BY studs.st_id\n",
    ") as active_table\n",
    "LEFT JOIN\n",
    "(\n",
    "    SELECT \n",
    "        studs.st_id as id,\n",
    "        any(test_grp) as group,\n",
    "        sum(money) as total_money,\n",
    "        CASE WHEN sum(money) > 0 THEN 1 ELSE 0 END as is_purchase,\n",
    "        CASE WHEN sumIf(money, subject == 'Math') > 0 THEN 1 ELSE 0 END as math_purchase \n",
    "    FROM studs\n",
    "    LEFT JOIN final_project_check on studs.st_id == final_project_check.st_id\n",
    "    GROUP BY studs.st_id\n",
    ") as purchase_table \n",
    "ON active_table.id == purchase_table.id\n",
    "GROUP BY group\n",
    "\"\"\""
   ]
  },
  {
   "cell_type": "code",
   "execution_count": 168,
   "id": "67616c26",
   "metadata": {},
   "outputs": [
    {
     "data": {
      "text/html": [
       "<div>\n",
       "<style scoped>\n",
       "    .dataframe tbody tr th:only-of-type {\n",
       "        vertical-align: middle;\n",
       "    }\n",
       "\n",
       "    .dataframe tbody tr th {\n",
       "        vertical-align: top;\n",
       "    }\n",
       "\n",
       "    .dataframe thead th {\n",
       "        text-align: right;\n",
       "    }\n",
       "</style>\n",
       "<table border=\"1\" class=\"dataframe\">\n",
       "  <thead>\n",
       "    <tr style=\"text-align: right;\">\n",
       "      <th></th>\n",
       "      <th>group</th>\n",
       "      <th>ARPU</th>\n",
       "      <th>ARPAU</th>\n",
       "      <th>CR</th>\n",
       "      <th>CR_per_active</th>\n",
       "      <th>CR_math</th>\n",
       "    </tr>\n",
       "  </thead>\n",
       "  <tbody>\n",
       "    <tr>\n",
       "      <th>0</th>\n",
       "      <td>control</td>\n",
       "      <td>4540.983607</td>\n",
       "      <td>10393.700787</td>\n",
       "      <td>0.049180</td>\n",
       "      <td>0.110236</td>\n",
       "      <td>0.060000</td>\n",
       "    </tr>\n",
       "    <tr>\n",
       "      <th>1</th>\n",
       "      <td>pilot</td>\n",
       "      <td>11508.474576</td>\n",
       "      <td>29739.583333</td>\n",
       "      <td>0.108475</td>\n",
       "      <td>0.260417</td>\n",
       "      <td>0.090909</td>\n",
       "    </tr>\n",
       "  </tbody>\n",
       "</table>\n",
       "</div>"
      ],
      "text/plain": [
       "     group          ARPU         ARPAU        CR  CR_per_active   CR_math\n",
       "0  control   4540.983607  10393.700787  0.049180       0.110236  0.060000\n",
       "1    pilot  11508.474576  29739.583333  0.108475       0.260417  0.090909"
      ]
     },
     "execution_count": 168,
     "metadata": {},
     "output_type": "execute_result"
    }
   ],
   "source": [
    "data = ph.read_clickhouse(query_2_2, connection=connection_default)\n",
    "data"
   ]
  },
  {
   "cell_type": "code",
   "execution_count": null,
   "id": "8a1aefe9",
   "metadata": {},
   "outputs": [],
   "source": []
  },
  {
   "cell_type": "markdown",
   "id": "321e8f3d",
   "metadata": {},
   "source": [
    "### Задание 3. PYTHON ###\n",
    "\n",
    "**3.1 Условие**\n",
    "\n",
    "*Реализуйте функцию, которая будет автоматически подгружать информацию из дополнительного файла groups_add.csv (заголовки могут отличаться) и на основании дополнительных параметров пересчитывать метрики.*\n",
    "\n",
    "**3.2 Условие**\n",
    "\n",
    "*Реализуйте функцию, которая будет строить графики по получаемым метрикам.*"
   ]
  },
  {
   "cell_type": "markdown",
   "id": "349a2cac",
   "metadata": {},
   "source": [
    "**3.1**"
   ]
  },
  {
   "cell_type": "code",
   "execution_count": 11,
   "id": "b4751fc0",
   "metadata": {},
   "outputs": [],
   "source": [
    "import re"
   ]
  },
  {
   "cell_type": "code",
   "execution_count": 66,
   "id": "6f21a704",
   "metadata": {},
   "outputs": [],
   "source": [
    "def update_groups(base_df: pd.DataFrame, check_df: pd.DataFrame, active_studs: pd.DataFrame, add_df: Union[pd.DataFrame, str]): \n",
    "    \"\"\"\n",
    "    Take 2 DataFrames and try to merge it, calculate matrics\n",
    "    \"\"\"\n",
    "    if isinstance(add_df, (pd.DataFrame, str)) and isinstance(base_df, pd.DataFrame) and isinstance(check_df, pd.DataFrame) \\\n",
    "                                                        and isinstance(active_studs, pd.DataFrame):\n",
    "        if type(add_df) == str:\n",
    "            # Если дана строка, предполагаем, что это ссылка. Выгружаем данные по ней\n",
    "            add_df_url = re.escape(add_df)\n",
    "            add_df = get_ydisc_public_data_csv(groups_add_url)\n",
    "        \n",
    "        add_types = add_df.dtypes\n",
    "        add_shape = add_df.shape\n",
    "        # Проверяем, что в дополнительном файле 2 колонки. Одна из них типа numeric (id), другая object (группы А/Б)\n",
    "        if add_shape[1] == 2 and any([pd.api.types.is_numeric_dtype(d_type) for d_type in add_types]) \\\n",
    "                            and any([pd.api.types.is_object_dtype(d_type) for d_type in add_types]):\n",
    "            # Переименовываем колонку с типом данных numeric в 'id', с object в grp\n",
    "            columns_rename_dict = dict(((groups_add.select_dtypes(include=np.number).columns[0], 'id'), (groups_add.select_dtypes(include=np.object0).columns[0], 'grp')))\n",
    "            add_df.rename(columns_rename_dict, inplace=True)\n",
    "            \n",
    "            add_df = add_df[['id', 'grp']]\n",
    "            groups_id = groups.id\n",
    "            # Проверяем, находятся ли уже данные по этим айдишникам в основном файле, чтобы не было дупликации. \n",
    "            add_df = add_df.query('id not in @groups_id')\n",
    "            all_groups = pd.concat([base_df, add_df])\n",
    "            all_groups['isactive'] = all_groups.id.isin(active_studs.student_id)\n",
    "            # Объединяем все данные которые есть, обрабатываем\n",
    "            merge_data = all_groups.merge(check_df, left_on='id', right_on='student_id', how='left', )\n",
    "            merge_data.drop(columns=['student_id'],inplace=True)\n",
    "            merge_data.fillna({'rev': 0}, inplace=True)\n",
    "            active_data = merge_data[merge_data.isactive == True]\n",
    "            # Разделяем группы, считаем метрики\n",
    "            group_a = active_data[active_data.grp == 'A']\n",
    "            group_b = active_data[active_data.grp == 'B']\n",
    "            CR_A = round(group_a.rev.apply(lambda x: 1 if x > 0 else 0).mean(), 4)\n",
    "            CR_B = round(group_b.rev.apply(lambda x: 1 if x > 0 else 0).mean(), 4)\n",
    "            ARPU_A = group_a.rev.mean()\n",
    "            ARPU_B = group_b.rev.mean()\n",
    "            ARPPU_A = round(group_a[group_a.rev > 0].rev.mean(), 1)\n",
    "            ARPPU_B = round(group_b[group_b.rev > 0].rev.mean(), 1)\n",
    "            \n",
    "            \n",
    "            metrics_data = pd.DataFrame([['A', CR_A, ARPPU_A, ARPPU_A], ['B', CR_B, ARPPU_B, ARPPU_B],], columns=['Group', 'CR', 'ARPU', 'ARPPU'])\n",
    "            \n",
    "            return metrics_data\n",
    "        else:\n",
    "            raise ValueError('Value Error: Additional DataFrame must have 2 columns: id (numeric), grp(object)')\n",
    "            \n",
    "    else:\n",
    "        raise TypeError('TypeError: base_df: pd.DataFrame, check_df: pd.DataFrame, active_studs: pd.DataFrame, add_df: pd.DataFrame or str') \n",
    "    "
   ]
  },
  {
   "cell_type": "code",
   "execution_count": 74,
   "id": "3a01a3be",
   "metadata": {},
   "outputs": [],
   "source": [
    "def plot_graphics(data_metrics: pd.DataFrame):\n",
    "    \"\"\"\n",
    "    Рисует по полученным метрикам графики\n",
    "    \"\"\"\n",
    "    data_metrics.plot(x='Group', y='CR', kind='bar', figsize=(10, 5))\n",
    "    data_metrics.plot(x='Group', y='ARPU', kind='bar', figsize=(10, 5))\n",
    "    data_metrics.plot(x='Group', y='ARPPU', kind='bar', figsize=(10, 5))\n",
    "    "
   ]
  },
  {
   "cell_type": "code",
   "execution_count": 75,
   "id": "dddebe17",
   "metadata": {},
   "outputs": [
    {
     "data": {
      "text/html": [
       "<div>\n",
       "<style scoped>\n",
       "    .dataframe tbody tr th:only-of-type {\n",
       "        vertical-align: middle;\n",
       "    }\n",
       "\n",
       "    .dataframe tbody tr th {\n",
       "        vertical-align: top;\n",
       "    }\n",
       "\n",
       "    .dataframe thead th {\n",
       "        text-align: right;\n",
       "    }\n",
       "</style>\n",
       "<table border=\"1\" class=\"dataframe\">\n",
       "  <thead>\n",
       "    <tr style=\"text-align: right;\">\n",
       "      <th></th>\n",
       "      <th>Group</th>\n",
       "      <th>CR</th>\n",
       "      <th>ARPU</th>\n",
       "      <th>ARPPU</th>\n",
       "    </tr>\n",
       "  </thead>\n",
       "  <tbody>\n",
       "    <tr>\n",
       "      <th>0</th>\n",
       "      <td>A</td>\n",
       "      <td>0.0507</td>\n",
       "      <td>933.6</td>\n",
       "      <td>933.6</td>\n",
       "    </tr>\n",
       "    <tr>\n",
       "      <th>1</th>\n",
       "      <td>B</td>\n",
       "      <td>0.0462</td>\n",
       "      <td>1257.9</td>\n",
       "      <td>1257.9</td>\n",
       "    </tr>\n",
       "  </tbody>\n",
       "</table>\n",
       "</div>"
      ],
      "text/plain": [
       "  Group      CR    ARPU   ARPPU\n",
       "0     A  0.0507   933.6   933.6\n",
       "1     B  0.0462  1257.9  1257.9"
      ]
     },
     "execution_count": 75,
     "metadata": {},
     "output_type": "execute_result"
    }
   ],
   "source": [
    "data_metrics = update_groups(groups, checks, active_studs, groups_add_url)\n",
    "data_metrics"
   ]
  },
  {
   "cell_type": "code",
   "execution_count": 76,
   "id": "58ccdfbb",
   "metadata": {},
   "outputs": [
    {
     "data": {
      "image/png": "[encoded data removed]",
      "text/plain": [
       "<Figure size 720x360 with 1 Axes>"
      ]
     },
     "metadata": {
      "needs_background": "light"
     },
     "output_type": "display_data"
    },
    {
     "data": {
      "image/png": "[encoded data removed]",
      "text/plain": [
       "<Figure size 720x360 with 1 Axes>"
      ]
     },
     "metadata": {
      "needs_background": "light"
     },
     "output_type": "display_data"
    },
    {
     "data": {
      "image/png": "[encoded data removed]",
      "text/plain": [
       "<Figure size 720x360 with 1 Axes>"
      ]
     },
     "metadata": {
      "needs_background": "light"
     },
     "output_type": "display_data"
    }
   ],
   "source": [
    "plot_graphics(data_metrics)"
   ]
  },
  {
   "cell_type": "code",
   "execution_count": null,
   "id": "42f1a7f6",
   "metadata": {},
   "outputs": [],
   "source": []
  },
  {
   "cell_type": "code",
   "execution_count": null,
   "id": "c26a6611",
   "metadata": {},
   "outputs": [],
   "source": []
  },
  {
   "cell_type": "code",
   "execution_count": null,
   "id": "e2f901b6",
   "metadata": {},
   "outputs": [],
   "source": []
  },
  {
   "cell_type": "code",
   "execution_count": null,
   "id": "10eb1c2e",
   "metadata": {},
   "outputs": [],
   "source": []
  },
  {
   "cell_type": "code",
   "execution_count": null,
   "id": "78c37f2f",
   "metadata": {},
   "outputs": [],
   "source": []
  }
 ],
 "metadata": {
  "kernelspec": {
   "display_name": "Python 3",
   "language": "python",
   "name": "python3"
  },
  "language_info": {
   "codemirror_mode": {
    "name": "ipython",
    "version": 3
   },
   "file_extension": ".py",
   "mimetype": "text/x-python",
   "name": "python",
   "nbconvert_exporter": "python",
   "pygments_lexer": "ipython3",
   "version": "3.8.8"
  }
 },
 "nbformat": 4,
 "nbformat_minor": 5
}
